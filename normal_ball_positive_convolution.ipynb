{
 "cells": [
  {
   "cell_type": "code",
   "execution_count": 1,
   "id": "fc5a66ef",
   "metadata": {},
   "outputs": [],
   "source": [
    "import numpy as np\n",
    "import pandas as pd\n",
    "rng = np.random.default_rng()\n",
    "pd.options.display.float_format = '{:6.4f}'.format"
   ]
  },
  {
   "cell_type": "code",
   "execution_count": 2,
   "id": "60813823",
   "metadata": {},
   "outputs": [],
   "source": [
    "sample_size = 1000000"
   ]
  },
  {
   "cell_type": "code",
   "execution_count": 3,
   "id": "1443038b",
   "metadata": {},
   "outputs": [],
   "source": [
    "sample_sizes = list()\n",
    "inlegrals = list()\n",
    "μ = 0.0\n",
    "n_dimentions_list = range(2,15)\n",
    "for n_dimentions in n_dimentions_list:\n",
    "    sample = rng.normal(loc=μ, size=(sample_size, n_dimentions))\n",
    "    norm_L1 = sample.cumsum(axis=1)\n",
    "    norm_L1[:,-1] = sample[:,-1]\n",
    "    filter_L1 = np.all(norm_L1 > 0.0, axis=1)\n",
    "    sample_size_temp = filter_L1.sum()\n",
    "    integral_temp = sample[filter_L1,-1].mean()\n",
    "    sample_sizes.append(sample_size_temp)\n",
    "    inlegrals.append(integral_temp)\n",
    "relationship_to_dimentions = pd.DataFrame({'Sample size': sample_sizes, 'Integral': inlegrals}, index = n_dimentions_list)\n",
    "relationship_to_dimentions.index.name = '# dimentions'"
   ]
  },
  {
   "cell_type": "code",
   "execution_count": 4,
   "id": "6584fe5f",
   "metadata": {},
   "outputs": [
    {
     "name": "stdout",
     "output_type": "stream",
     "text": [
      "              Sample size  Integral\n",
      "# dimentions                       \n",
      "2                  249706    0.7988\n",
      "3                  187000    0.7986\n",
      "4                  155758    0.7956\n",
      "5                  136774    0.7955\n",
      "6                  123590    0.7984\n",
      "7                  113022    0.7974\n",
      "8                  105238    0.7995\n",
      "9                   98295    0.7969\n",
      "10                  92731    0.8009\n",
      "11                  88024    0.7942\n",
      "12                  83991    0.7956\n",
      "13                  80676    0.7979\n",
      "14                  77583    0.8007\n"
     ]
    }
   ],
   "source": [
    "print(relationship_to_dimentions)"
   ]
  },
  {
   "cell_type": "code",
   "execution_count": 5,
   "id": "ce9f223d",
   "metadata": {},
   "outputs": [
    {
     "data": {
      "text/plain": [
       "<AxesSubplot:title={'center':'Relationship semi-convolution integral to number of dimentions'}, xlabel='Number of dimentions', ylabel='Positive integral'>"
      ]
     },
     "execution_count": 5,
     "metadata": {},
     "output_type": "execute_result"
    },
    {
     "data": {
      "image/png": "[encoded data removed]",
      "text/plain": [
       "<Figure size 432x288 with 1 Axes>"
      ]
     },
     "metadata": {
      "needs_background": "light"
     },
     "output_type": "display_data"
    }
   ],
   "source": [
    "the_range = relationship_to_dimentions.Integral.max() - relationship_to_dimentions.Integral.min()\n",
    "relationship_to_dimentions.Integral.plot(lw=2, \n",
    "                                         colormap='jet', \n",
    "                                         marker='.', \n",
    "                                         markersize=7, \n",
    "                                         title='Relationship semi-convolution integral to number of dimentions', \n",
    "                                         xlabel = 'Number of dimentions', ylabel = 'Positive integral', \n",
    "                                         ylim=(relationship_to_dimentions.Integral.mean() - 3.0 * the_range, \n",
    "                                               relationship_to_dimentions.Integral.mean() + 3.0 * the_range))"
   ]
  },
  {
   "cell_type": "code",
   "execution_count": 6,
   "id": "b5034166",
   "metadata": {},
   "outputs": [],
   "source": [
    "sample_sizes = list()\n",
    "inlegrals = list()\n",
    "n_dimentions = 2\n",
    "μs = np.arange(-2.0,0.00001,0.02)\n",
    "for μ in μs:\n",
    "    sample = rng.normal(loc=μ, size=(sample_size, n_dimentions))\n",
    "    norm_L1 = sample.cumsum(axis=1)\n",
    "    norm_L1[:,-1] = sample[:,-1]\n",
    "    filter_L1 = np.all(norm_L1 > 0.0, axis=1)\n",
    "    sample_size_temp = filter_L1.sum()\n",
    "    integral_temp = sample[filter_L1,-1].mean()\n",
    "    sample_sizes.append(sample_size_temp)\n",
    "    inlegrals.append(integral_temp)\n",
    "relationship_to_μ = pd.DataFrame({'Sample size': sample_sizes, 'Integral': inlegrals}, index = μs)\n",
    "relationship_to_μ.index.name = 'μ'"
   ]
  },
  {
   "cell_type": "code",
   "execution_count": 7,
   "id": "3913eaa7",
   "metadata": {},
   "outputs": [
    {
     "name": "stdout",
     "output_type": "stream",
     "text": [
      "       Sample size  Integral\n",
      "-2.00          545    0.3578\n",
      "-1.98          561    0.3587\n",
      "-1.96          611    0.3878\n",
      "-1.94          668    0.3495\n",
      "-1.92          730    0.3644\n",
      "...            ...       ...\n",
      "-0.08       219556    0.7668\n",
      "-0.06       226758    0.7758\n",
      "-0.04       233412    0.7846\n",
      "-0.02       242786    0.7896\n",
      " 0.00       249218    0.7989\n",
      "\n",
      "[101 rows x 2 columns]\n"
     ]
    }
   ],
   "source": [
    "relationship_to_μ.index = relationship_to_μ.index.format(formatter='{:5.2f}'.format)\n",
    "print(relationship_to_μ)"
   ]
  },
  {
   "cell_type": "code",
   "execution_count": 8,
   "id": "0f571ac0",
   "metadata": {},
   "outputs": [
    {
     "data": {
      "text/plain": [
       "<AxesSubplot:title={'center':'Relationship semi-convolution integral to μ'}, xlabel='μ', ylabel='Positive integral'>"
      ]
     },
     "execution_count": 8,
     "metadata": {},
     "output_type": "execute_result"
    },
    {
     "data": {
      "image/png": "[encoded data removed]",
      "text/plain": [
       "<Figure size 432x288 with 1 Axes>"
      ]
     },
     "metadata": {
      "needs_background": "light"
     },
     "output_type": "display_data"
    }
   ],
   "source": [
    "relationship_to_μ.Integral.plot(lw=2, \n",
    "                                colormap='jet', \n",
    "                                marker='.', \n",
    "                                markersize=7, \n",
    "                                title='Relationship semi-convolution integral to μ', \n",
    "                                xlabel = 'μ', \n",
    "                                ylabel = 'Positive integral')"
   ]
  }
 ],
 "metadata": {
  "kernelspec": {
   "display_name": "Python 3",
   "language": "python",
   "name": "python3"
  },
  "language_info": {
   "codemirror_mode": {
    "name": "ipython",
    "version": 3
   },
   "file_extension": ".py",
   "mimetype": "text/x-python",
   "name": "python",
   "nbconvert_exporter": "python",
   "pygments_lexer": "ipython3",
   "version": "3.8.8"
  }
 },
 "nbformat": 4,
 "nbformat_minor": 5
}
